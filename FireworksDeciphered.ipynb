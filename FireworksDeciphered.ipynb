{
 "cells": [
  {
   "cell_type": "markdown",
   "metadata": {},
   "source": [
    "This code comes from https://github.com/vispy/vispy/blob/master/examples/demo/gloo/fireworks.py and contains my comments as I am trying to understand it.\n",
    "\n",
    "I happened across the need to learn how to code up data-driven visualizations in VisPy. VisPy is  a cutting edge wrapper API for OpenGL, which is a graphics library. I want to program an 2D plot of cells in a calcium imaging experiment and color them in time according to their activity. Later on, I would like to select cells from specific ensembles of co-activating neurons, calculated using the EnsemblePursuit algorithm, so that you can see how these cells co-fire. \n"
   ]
  },
  {
   "cell_type": "markdown",
   "metadata": {},
   "source": [
    "Okay so we first generate a (65,65) image of a circle with radius 32. "
   ]
  },
  {
   "cell_type": "code",
   "execution_count": 2,
   "metadata": {
    "scrolled": true
   },
   "outputs": [
    {
     "data": {
      "image/png": "[encoded data removed]",
      "text/plain": [
       "<Figure size 432x288 with 1 Axes>"
      ]
     },
     "metadata": {
      "needs_background": "light"
     },
     "output_type": "display_data"
    }
   ],
   "source": [
    "import time\n",
    "import numpy as np\n",
    "from vispy import gloo, app\n",
    "import matplotlib.pyplot as plt\n",
    "%matplotlib inline\n",
    "\n",
    "# import vispy\n",
    "# vispy.use('pyside', 'es2')\n",
    "\n",
    "\n",
    "# Create a texture\n",
    "radius = 32\n",
    "im1 = np.random.normal(\n",
    "    0.8, 0.3, (radius * 2 + 1, radius * 2 + 1)).astype(np.float32)\n",
    "\n",
    "# Mask it with a disk\n",
    "L = np.linspace(-radius, radius, 2 * radius + 1)\n",
    "(X, Y) = np.meshgrid(L, L)\n",
    "im1 *= np.array((X ** 2 + Y ** 2) <= radius * radius, dtype='float32')\n",
    "\n",
    "plt.imshow(im1)\n",
    "plt.show()\n",
    "\n"
   ]
  },
  {
   "cell_type": "markdown",
   "metadata": {},
   "source": [
    "Next we create a data array which holds how long a cell  lasts before it becomes transparent.The array also has start position and end position. Easy enough."
   ]
  },
  {
   "cell_type": "code",
   "execution_count": null,
   "metadata": {},
   "outputs": [],
   "source": [
    "# Set number of particles, you should be able to scale this to 100000\n",
    "N = 10000\n",
    "\n",
    "# Create vertex data container\n",
    "data = np.zeros(N, [('a_lifetime', np.float32),\n",
    "                    ('a_startPosition', np.float32, 3),\n",
    "                    ('a_endPosition', np.float32, 3)])\n"
   ]
  },
  {
   "cell_type": "markdown",
   "metadata": {},
   "source": [
    "Next comes the vertex shader! How exciting! Alright so what are these uniform attribute and varying variables?\n",
    "\n",
    "From https://www.opengl.org/sdk/docs/tutorials/ClockworkCoders/attributes.php we get:\n",
    "\"Vertex attributes are used to communicate from \"outside\" to the vertex shader. Unlike uniform variables, values are provided per vertex (and not globally for all vertices). There are built-in vertex attributes like the normal or the position, or you can specify your own vertex attribute like a tangent or another custom value. Attributes can't be defined in the fragment shader.\"\n",
    "Ha it's exactly the variables coming from the data variable in the previous cell! Cool.\n",
    "\"Uniform variables are used to communicate with your vertex or fragment shader from \"outside\". Uniform variables are read-only and have the same value among all processed vertices. You can only change them within your C++ program.\" \n",
    "Replace C++ with Python then. Okay u_time is a global time. But what is u_centerPosition? Looking forward at the code at each reinitialization it is recomputed and passed to the shader. It is just one triple of x,y,z coordinates. It looks like an initial condition for the firework. It's where the circles start out.\n",
    "\n",
    "What is gl_Position?\n",
    "\n",
    "https://learnopengl.com/Advanced-OpenGL/Advanced-GLSL\n",
    "\n",
    "\"Shaders are minimal, if we need data from any other source outside the current shader we'll have to pass data around. We learned to do this via vertex attributes, uniforms and samplers. There are however a few extra variables defined by GLSL prefixed with gl_ that give us an extra means to gather and/or write data. We've already seen two of them in the tutorials so far: gl_Position that is the output vector of the vertex shader.\"\n",
    "\n",
    "Okay so u_time is passed from the outside to the shader and is a global clock ticking. Start and end position is what we get from outside the program. Each vertex has it's own start and end position. As far as I can understand the code interpolates between start and end.\n",
    "\n",
    "There's still a bunch of stuff I don't understand. u_time is updated in the on_draw function in the canvas class. There doesn't seem to be for loop for running the visualization. Yet it still behaves as though there is a for loop. \n",
    "\n",
    "Start and end position get assigned at the beginning of each firework. The thing that changes is the u_time. I get it. At each time step you go from the startPosition by an increment equal to endPosition.\n",
    "\n",
    "y is made quadratic in time so the firework curls. "
   ]
  },
  {
   "cell_type": "code",
   "execution_count": 4,
   "metadata": {},
   "outputs": [],
   "source": [
    "VERT_SHADER = \"\"\"\n",
    "uniform float u_time;\n",
    "uniform vec3 u_centerPosition;\n",
    "attribute float a_lifetime;\n",
    "attribute vec3 a_startPosition;\n",
    "attribute vec3 a_endPosition;\n",
    "varying float v_lifetime;\n",
    "\n",
    "void main () {\n",
    "    if (u_time <= a_lifetime)\n",
    "    {\n",
    "        gl_Position.xyz = a_startPosition + (u_time * a_endPosition);\n",
    "        gl_Position.xyz += u_centerPosition;\n",
    "        gl_Position.y -= 1.0 * u_time * u_time;\n",
    "        gl_Position.w = 1.0;\n",
    "    }\n",
    "    else\n",
    "        gl_Position = vec4(-1000, -1000, 0, 0);\n",
    "\n",
    "    v_lifetime = 1.0 - (u_time / a_lifetime);\n",
    "    v_lifetime = clamp(v_lifetime, 0.0, 1.0);\n",
    "    gl_PointSize = (v_lifetime * v_lifetime) * 40.0;\n",
    "}\n",
    "\"\"\"\n",
    "#Down the line\n",
    "data['a_lifetime'] = np.random.normal(2.0, 0.5, (N,))\n",
    "data['a_startPosition'] = np.random.normal(0.0, 0.2, (N, 3))\n",
    "data['a_endPosition'] = np.random.normal(0.0, 1.2, (N, 3))\n"
   ]
  },
  {
   "cell_type": "markdown",
   "metadata": {},
   "source": [
    "Next comes the fragment shader. \n",
    "texture1 is a common global variable that stores the texture. \n",
    "What is sampler2D?\n",
    "https://thebookofshaders.com/glossary/?search=texture2D\n",
    "\"sampler specifies the sampler to which the texture from which texels will be retrieved is bound.\""
   ]
  },
  {
   "cell_type": "code",
   "execution_count": null,
   "metadata": {},
   "outputs": [],
   "source": [
    "FRAG_SHADER = \"\"\"\n",
    "#version 120\n",
    "precision highp float;\n",
    "uniform sampler2D texture1;\n",
    "uniform vec4 u_color;\n",
    "varying float v_lifetime;\n",
    "uniform highp sampler2D s_texture;\n",
    "\n",
    "void main()\n",
    "{\n",
    "    highp vec4 texColor;\n",
    "    texColor = texture2D(s_texture, gl_PointCoord);\n",
    "    gl_FragColor = vec4(u_color) * texColor;\n",
    "    gl_FragColor.a *= v_lifetime;\n",
    "}\n",
    "\"\"\""
   ]
  },
  {
   "cell_type": "markdown",
   "metadata": {},
   "source": [
    "Okay, that's it for this post. Going to review programming different shaders in further posts. "
   ]
  }
 ],
 "metadata": {
  "kernelspec": {
   "display_name": "Python 3",
   "language": "python",
   "name": "python3"
  },
  "language_info": {
   "codemirror_mode": {
    "name": "ipython",
    "version": 3
   },
   "file_extension": ".py",
   "mimetype": "text/x-python",
   "name": "python",
   "nbconvert_exporter": "python",
   "pygments_lexer": "ipython3",
   "version": "3.7.4"
  }
 },
 "nbformat": 4,
 "nbformat_minor": 2
}
