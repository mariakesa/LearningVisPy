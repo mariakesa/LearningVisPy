{
 "cells": [
  {
   "cell_type": "code",
   "execution_count": 1,
   "metadata": {},
   "outputs": [],
   "source": [
    "import sys\n",
    "sys.path.insert(1, '/home/maria/Documents/EnsemblePursuit')\n",
    "from EnsemblePursuit.EnsemblePursuit import EnsemblePursuit\n",
    "import numpy as np\n",
    "from scipy.stats import zscore\n",
    "import matplotlib.pyplot as plt"
   ]
  },
  {
   "cell_type": "code",
   "execution_count": 4,
   "metadata": {},
   "outputs": [
    {
     "name": "stdout",
     "output_type": "stream",
     "text": [
      "Shape of the data matrix, neurons by timepoints: (18795, 30766)\n",
      "(18795, 30560)\n",
      "13.984175205230713 time\n",
      "obtained 200 PCs in 16.1752 seconds\n",
      "initialized 200 clusters with k-means in 24.9797 seconds\n",
      "ensemble 0, time 2.44, nr neurons 20, EV 0.0001\n",
      "ensemble 25, time 57.59, nr neurons 6, EV 0.0022\n",
      "ensemble 50, time 107.11, nr neurons 6, EV 0.0040\n",
      "ensemble 75, time 154.91, nr neurons 6, EV 0.0056\n",
      "ensemble 100, time 203.08, nr neurons 4, EV 0.0071\n",
      "ensemble 125, time 249.28, nr neurons 5, EV 0.0086\n",
      "ensemble 150, time 294.70, nr neurons 7, EV 0.0100\n",
      "ensemble 175, time 339.39, nr neurons 6, EV 0.0115\n",
      "ensemble 199, time 382.97, nr neurons 8, EV 0.0128\n",
      "average sparsity is 0.0004\n"
     ]
    }
   ],
   "source": [
    "data_path='/media/maria/DATA1/Documents/data_for_suite2p/TX39/'\n",
    "dt=1\n",
    "spks= np.load(data_path+'spks.npy')\n",
    "print('Shape of the data matrix, neurons by timepoints:',spks.shape)\n",
    "iframe = np.load(data_path+'iframe.npy') # iframe[n] is the microscope frame for the image frame n\n",
    "ivalid = iframe+dt<spks.shape[-1] # remove timepoints outside the valid time range\n",
    "iframe = iframe[ivalid]\n",
    "#Shuffle\n",
    "S = spks[:, iframe+dt]\n",
    "permutation_matrix=[]\n",
    "import time\n",
    "start=time.time()\n",
    "for j in range(0,S.shape[0]):\n",
    "    permute_row=np.random.permutation(np.arange(0,S.shape[1]))\n",
    "    S[j,:]=S[j,:][permute_row]\n",
    "print(S.shape)\n",
    "end=time.time()\n",
    "print(end-start,'time')\n",
    "#Uncomment to compute U and V\n",
    "ep=EnsemblePursuit(n_components=200,lam=0.01,n_kmeans=200)\n",
    "model=ep.fit(S.T[:10000,:])\n",
    "V=model.components_\n",
    "U=model.weights"
   ]
  },
  {
   "cell_type": "code",
   "execution_count": null,
   "metadata": {},
   "outputs": [],
   "source": [
    "np.save('my_spks_shuffled.npy',S)\n",
    "np.save()"
   ]
  }
 ],
 "metadata": {
  "kernelspec": {
   "display_name": "Python 3",
   "language": "python",
   "name": "python3"
  },
  "language_info": {
   "codemirror_mode": {
    "name": "ipython",
    "version": 3
   },
   "file_extension": ".py",
   "mimetype": "text/x-python",
   "name": "python",
   "nbconvert_exporter": "python",
   "pygments_lexer": "ipython3",
   "version": "3.7.4"
  }
 },
 "nbformat": 4,
 "nbformat_minor": 2
}
